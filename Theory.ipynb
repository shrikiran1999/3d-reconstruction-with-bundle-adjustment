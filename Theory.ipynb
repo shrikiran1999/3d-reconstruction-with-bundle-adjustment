{
 "cells": [
  {
   "cell_type": "markdown",
   "metadata": {
    "deletable": false,
    "editable": false,
    "nbgrader": {
     "cell_type": "markdown",
     "checksum": "baa52b722dc3cba90385d3d0ded47dbc",
     "grade": false,
     "grade_id": "cell-b2250668e6fbbab8",
     "locked": true,
     "schema_version": 3,
     "solution": false,
     "task": false
    }
   },
   "source": [
    "<img align=\"center\" src=\"images/course.png\" width=\"800\">"
   ]
  },
  {
   "cell_type": "markdown",
   "metadata": {
    "deletable": true,
    "editable": true
   },
   "source": [
    "# 16720 (B)  3D Reconstruction - Assignment 5\n",
    "    Instructor: Kris                         TAs: Arka, Jinkun, Rawal, Rohan, Sheng-Yu\n",
    "\n",
    "# Instructions\n",
    "\n",
    "This section should include the visualizations and answers to specifically highlighted questions from P1 to P4. This section will need to be uploaded to gradescope as a pdf and manually graded (this is a separate submission from the coding notebooks).\n",
    "\n",
    "\n",
    "1. Students are encouraged to work in groups but each student must submit their own work. Include the names of your collaborators in your write up. Code should <span style='color:red'>Not</span>  be shared or copied. Please properly give credits to others by <span style='color:red'>LISTING EVERY COLLABORATOR</span> in the writeup including any code segments that you discussed,  Please <span style='color:red'>DO NOT</span>  use external code unless permitted. Plagiarism is prohibited and may lead to failure of this course.\n",
    "\n",
    "2.  **Start early!** This homework will take a long time to complete.\n",
    "    \n",
    "3. **Questions:** If you have any question, please look at Piazza first and the FAQ page for this homework.\n",
    "\n",
    "4. All the theory question and manually graded questions should be included in a single writeup (this notebook exported as pdf or a standalone pdf file) and submitted to gradescope: pdf assignment. \n",
    "\n",
    "5. **Attempt to verify your implementation as you proceed:** If you don’t verify that your implementation is correct on toy examples, you will risk having a huge issue when you put everything together. We provide some simple checks in the notebook cells, but make sure you verify them on more complicated samples before moving forward. \n",
    "\n",
    "6. **Do not import external functions/packages other than the ones already imported in the files:** The current imported functions and packages are enough for you to complete this assignment. If you need to import other functions, please remember to comment them out after submission. Our autograder will crash if you import a new function that the gradescope server does not expect. \n",
    "\n",
    "7. Assignments that do not follow this submission rule will be **penalized up to 10\\% of the total score**.\n"
   ]
  },
  {
   "cell_type": "markdown",
   "metadata": {
    "deletable": false,
    "editable": false,
    "nbgrader": {
     "cell_type": "markdown",
     "checksum": "093108544335f084d0b904cc5821ba91",
     "grade": false,
     "grade_id": "cell-1b45fd1c3c38945a",
     "locked": true,
     "schema_version": 3,
     "solution": false,
     "task": false
    }
   },
   "source": [
    "# Theory Questions (25 pts)\n",
    "\n",
    "Before implementing our own 3D reconstruction, let's take a  look at some simple theory questions that may arise. The answers to the below questions should be relatively short, consisting of a few lines of math and text (maybe a diagram if it helps your understanding).  \n",
    "\n",
    "<img align=\"center\" src=\"images/drawing-1.png\" width=\"800\">\n",
    "<center> <figcaption align=\"center\"><b>Figure1. Figure for Q1.1. $C1$ and $C2$ are the optical centers. The principal axes intersect at point $\\textbf{w}$ ($P$ in the figure).</b></figcaption> </center>\n",
    "\n",
    "\n",
    "\n",
    "\n",
    "## Q0.1\n",
    "Suppose two cameras fixated on a point $x$ (see Figure 1) in space such that their principal axes intersect at the  point $P$. Show that if the image coordinates are normalized so that the coordinate origin $(0, 0)$\n",
    "coincides with the principal point, the $\\textbf{F}_{33}$ element of the fundamental matrix is zero."
   ]
  },
  {
   "cell_type": "markdown",
   "metadata": {
    "deletable": false,
    "editable": true,
    "nbgrader": {
     "cell_type": "markdown",
     "checksum": "230c80f93cd50124cc51aaf2cce6cf60",
     "grade": true,
     "grade_id": "cell-ddb4d1f50ebcaec0",
     "locked": false,
     "points": 5,
     "schema_version": 3,
     "solution": true,
     "task": false
    }
   },
   "source": [
    "The fundamental matrix is given by $F=\\left[\\begin{array}{lll}F_{11} & F_{12} & F_{13} \\\\ F_{21} & F_{22} & F_{23} \\\\ F_{31} & F_{32} & F_{33}\\end{array}\\right]$\n",
    "\n",
    "For a fundamental matrix, we know that $x^T F x=0$. \n",
    "\n",
    "Here $x^T =\\left[\\begin{array}{lll}0 & 0 & 1\\end{array}\\right]$, since the coordinate origin is at princial point.\n",
    "\n",
    "$$\n",
    "\\begin{aligned}\n",
    "x^T F x &=0 \\\\\n",
    "{\\left[\\begin{array}{lll}\n",
    "0 & 0 & 1\n",
    "\\end{array}\\right]\\left[\\begin{array}{lll}\n",
    "F_{11} & F_{12} & F_{13} \\\\\n",
    "F_{21} & F_{22} & F_{23} \\\\\n",
    "F_{31} & F_{32} & F_{33}\n",
    "\\end{array}\\right]\\left[\\begin{array}{l}\n",
    "0 \\\\\n",
    "0 \\\\\n",
    "1\n",
    "\\end{array}\\right] } &=0 \\\\\n",
    "{\\left[\\begin{array}{lll}\n",
    "F_{31} & F_{32} & F_{33}\n",
    "\\end{array}\\right]\\left[\\begin{array}{l}\n",
    "0 \\\\\n",
    "0 \\\\\n",
    "1\n",
    "\\end{array}\\right] } &=0 \\\\\n",
    "F_{33} &=0\n",
    "\\end{aligned}\n",
    "$$"
   ]
  },
  {
   "cell_type": "markdown",
   "metadata": {
    "deletable": false,
    "editable": false,
    "nbgrader": {
     "cell_type": "markdown",
     "checksum": "6dfb545d4f56f9bf1cc3b3fd61832e6c",
     "grade": false,
     "grade_id": "cell-fc866101ec15f385",
     "locked": true,
     "schema_version": 3,
     "solution": false,
     "task": false
    }
   },
   "source": [
    "## Q0.2\n",
    "Consider the case of two cameras viewing an object such that the second camera differs from the first by a pure translation that is parallel to the $x$-axis. Show that the epipolar lines in the two cameras are also parallel to the $x$-axis. Backup your argument with relevant equations.\n"
   ]
  },
  {
   "cell_type": "markdown",
   "metadata": {
    "deletable": false,
    "editable": true,
    "nbgrader": {
     "cell_type": "markdown",
     "checksum": "7e10bc4946beab4d0d572bf50cba41a3",
     "grade": true,
     "grade_id": "cell-d618bdb98a0d5f94",
     "locked": false,
     "points": 5,
     "schema_version": 3,
     "solution": true,
     "task": false
    }
   },
   "source": [
    "Assume the translation vector is given by $t=\\left[\\begin{array}{l}t_1 \\\\ t_2 \\\\ t_3\\end{array}\\right]$ and since the translation is parallel to the $\\mathrm{x}$-axis, we have $t_2$ and $t_3=0$. Since we have pure translation, the rotation matrix $R$ is an identity, that is, \n",
    "\n",
    "$R=$ $\\left[\\begin{array}{ccc}1 & 0 & 0 \\\\ 0 & 1 & 0 \\\\ 0 & 0 & 1\\end{array}\\right]$\n",
    "\n",
    "We know that for the essential matrix $E$ are given by $x_2^T E x_1=0$ and $l_2=E x_1$, where $E=T_X R$, where $T_X$ is the cross-product matrix of the translation vector, given by $T_X=\\left[\\begin{array}{ccc}0 & -t_3 & t_2 \\\\ t_3 & 0 & -t_1 \\\\ -t_2 & t_1 & 0\\end{array}\\right]$. Since $t_2$ and $t_3$ are zero (parallel translation to the x-axis), we get, $T_X=\\left[\\begin{array}{ccc}0 & 0 & 0 \\\\ 0 & 0 & -t_1 \\\\ 0 & t_1 & 0\\end{array}\\right]$. Now,\n",
    "$$\n",
    "\\begin{aligned}\n",
    "E &=T_X R \\\\\n",
    "&=\\left[\\begin{array}{ccc}\n",
    "0 & 0 & 0 \\\\\n",
    "0 & 0 & -t_1 \\\\\n",
    "0 & t_1 & 0\n",
    "\\end{array}\\right]\\left[\\begin{array}{lll}\n",
    "1 & 0 & 0 \\\\\n",
    "0 & 1 & 0 \\\\\n",
    "0 & 0 & 1\n",
    "\\end{array}\\right] \\\\\n",
    "&=\\left[\\begin{array}{ccc}\n",
    "0 & 0 & 0 \\\\\n",
    "0 & 0 & -t_1 \\\\\n",
    "0 & t_1 & 0\n",
    "\\end{array}\\right]\n",
    "\\end{aligned}\n",
    "$$\n",
    "\n",
    "The epipolar line $l_2$ in the second image plane corresponding to the point $x_1$ in the first image is given by,\n",
    "$$\n",
    "\\begin{aligned}\n",
    "l_2 &=E x_1 \\\\\n",
    "&=\\left[\\begin{array}{ccc}\n",
    "0 & 0 & 0 \\\\\n",
    "0 & 0 & -t_1 \\\\\n",
    "0 & t_1 & 0\n",
    "\\end{array}\\right]\\left[\\begin{array}{c}\n",
    "x_1 \\\\\n",
    "y_1 \\\\\n",
    "1\n",
    "\\end{array}\\right] \\\\\n",
    "&=\\left[\\begin{array}{c}\n",
    "0 \\\\\n",
    "-t_1 \\\\\n",
    "t_1 y_1\n",
    "\\end{array}\\right]\n",
    "\\end{aligned}\n",
    "$$\n",
    "\n",
    "The line equation of the epipolar line passing through any point $x_2$ is given by $x_2^T l_2=0$.\n",
    "$$\n",
    "\\begin{array}{r}\n",
    "{\\left[\\begin{array}{lll}\n",
    "x_2 & y_2 & 1\n",
    "\\end{array}\\right]\\left[\\begin{array}{c}\n",
    "0 \\\\\n",
    "-t_1 \\\\\n",
    "t_1 y_1\n",
    "\\end{array}\\right]=0} \\\\\n",
    "-t_1 y_2+t_1 y_1=0\n",
    "\\end{array}\n",
    "$$\n",
    "\n",
    "We can clearly see from the above eqaution that the epipolar line is parallel to x-axis. Similarly it can also proved to be the case for the epipolar line in the first image ($l_1$). Thus, the epipolar lines in the two cameras are also parallel to the $\\mathrm{x}$-axis for pure translation along the $\\mathrm{x}$-axis."
   ]
  },
  {
   "cell_type": "markdown",
   "metadata": {
    "deletable": false,
    "editable": false,
    "nbgrader": {
     "cell_type": "markdown",
     "checksum": "fe768af5463993c7c3697226cba2a92e",
     "grade": false,
     "grade_id": "cell-9d505035dba56563",
     "locked": true,
     "schema_version": 3,
     "solution": false,
     "task": false
    }
   },
   "source": [
    "## Q0.3\n",
    "Suppose we have an inertial sensor which gives us the accurate extrinsics $\\mathbf{R}_i$ and $\\textbf{t}_i$ (see Figure 2), the rotation matrix and translation vector of the robot at time $i$. What will be the effective rotation ($\\textbf{R}_{rel}$) and translation ($\\textbf{t}_{rel}$) between two frames at different time stamps? Suppose the camera intrinsics ($\\textbf{K}$) are known, express the essential matrix ($\\textbf{E}$) and the fundamental matrix ($\\textbf{F}$) in terms of $\\textbf{K}$, $\\textbf{R}_{rel}$ and $\\textbf{t}_{rel}$.\n",
    "\n",
    "<img align=\"center\" src=\"images/F_E.png\" width=\"500\">\n",
    "<center> <figcaption align=\"center\"><b>Figure 2. Figure for Q1.3. $C1$ and $C2$ are the optical centers. The rotation and the translation is obtained using inertial sensors. $\\textbf{R}_{rel}$ and $\\textbf{t}_{rel}$ are the relative rotation and translation between two frames.</b></figcaption> </center>"
   ]
  },
  {
   "cell_type": "markdown",
   "metadata": {
    "deletable": false,
    "editable": true,
    "nbgrader": {
     "cell_type": "markdown",
     "checksum": "30b8549ddf70118b77ef896d549b9ad1",
     "grade": true,
     "grade_id": "cell-95b51fa815c97b28",
     "locked": false,
     "points": 5,
     "schema_version": 3,
     "solution": true,
     "task": false
    }
   },
   "source": [
    "Let $X$ denote the point in the real world and $x_i, y_i$ represent any point in the image. We know,\n",
    "$$\n",
    "\\left[\\begin{array}{c}\n",
    "x_i \\\\\n",
    "y_i \\\\\n",
    "1\n",
    "\\end{array}\\right]=K\\left(R_i \\mid t_i\\right)\\left[\\begin{array}{c}\n",
    "X \\\\\n",
    "Y \\\\\n",
    "Z \\\\\n",
    "1\n",
    "\\end{array}\\right]\n",
    "$$\n",
    "Consider two points $x_1$ and $x_2$ at the two time frames,\n",
    "$$\n",
    "\\begin{aligned}\n",
    "{\\left[\\begin{array}{l}\n",
    "x_1 \\\\\n",
    "y_1 \\\\\n",
    "1\n",
    "\\end{array}\\right] } &=K\\left(R_1 \\mid t_1\\right)\\left[\\begin{array}{c}\n",
    "X \\\\\n",
    "Y \\\\\n",
    "Z \\\\\n",
    "1\n",
    "\\end{array}\\right] \\\\\n",
    "&=K\\left(R_1\\left[\\begin{array}{c}\n",
    "X \\\\\n",
    "Y \\\\\n",
    "Z\n",
    "\\end{array}\\right]+t_1\\right) \\\\\n",
    "{\\left[\\begin{array}{c}\n",
    "x_2 \\\\\n",
    "y_2 \\\\\n",
    "1\n",
    "\\end{array}\\right] } &=K\\left(R_2\\left[\\begin{array}{c}\n",
    "X \\\\\n",
    "Y \\\\\n",
    "Z\n",
    "\\end{array}\\right]+t_2\\right) \\\\\n",
    "\\Longrightarrow\\left[\\begin{array}{c}\n",
    "X \\\\\n",
    "Y \\\\\n",
    "Z\n",
    "\\end{array}\\right] &=R_2^{-1}\\left(K^{-1}\\left[\\begin{array}{c}\n",
    "x_2 \\\\\n",
    "y_2 \\\\\n",
    "1\n",
    "\\end{array}\\right]-t_2\\right)\n",
    "\\end{aligned}\n",
    "$$\n",
    "Substituting the above equation in the point equation for the first frame, we get,\n",
    "$$\n",
    "\\begin{aligned}\n",
    "{\\left[\\begin{array}{c}\n",
    "x_1 \\\\\n",
    "y_1 \\\\\n",
    "1\n",
    "\\end{array}\\right] } &=K\\left(R_1\\left[\\begin{array}{l}\n",
    "X \\\\\n",
    "Y \\\\\n",
    "Z\n",
    "\\end{array}\\right]+t_1\\right) \\\\\n",
    "&=K\\left(R_1\\left(R_2^{-1}\\left(K^{-1}\\left[\\begin{array}{c}\n",
    "x_2 \\\\\n",
    "y_2 \\\\\n",
    "1\n",
    "\\end{array}\\right]-t_2\\right)\\right)+t_1\\right) \\\\\n",
    "&=K R_1 R_2^{-1} K^{-1}\\left[\\begin{array}{c}\n",
    "x_2 \\\\\n",
    "y_2 \\\\\n",
    "1\n",
    "\\end{array}\\right]-K R_1 R_2^{-1} t_2+K R_1 t_1\n",
    "\\end{aligned}\n",
    "$$\n",
    "\n",
    "We can see from the above equation, $t_{r e l}$ and $R_{r e l}$ are given by,\n",
    "$$\n",
    "\\begin{aligned}\n",
    "t_{r e l} &=-K R_1 R_2^{-1} t_2+K R_1 t_1 \\\\\n",
    "R_{\\text {rel }} &=K R_1 R_2^{-1} K^{-1}\n",
    "\\end{aligned}\n",
    "$$\n",
    "and the fundamental matrix $F$ and essential matrix $E$ are given by,\n",
    "$$\n",
    "\\begin{aligned}\n",
    "E &=t_{\\text {relX }} R_{\\text {rel }} \\\\\n",
    "F &=K^{-1} E K \\\\\n",
    "&=K^{-1} t_{\\text {relX }} R_{\\text {rel }} K\n",
    "\\end{aligned}\n",
    "$$\n",
    "Here, $t_{\\text {relX }}$ is the cross-product matrix of the translation vector $t_{\\text {rel }}$.\n"
   ]
  },
  {
   "cell_type": "markdown",
   "metadata": {
    "deletable": false,
    "editable": false,
    "nbgrader": {
     "cell_type": "markdown",
     "checksum": "fc37d8fda92e17b98959dfcc9d9169ea",
     "grade": false,
     "grade_id": "cell-18e27a9a54289ed0",
     "locked": true,
     "schema_version": 3,
     "solution": false,
     "task": false
    }
   },
   "source": [
    "## Q0.4\n",
    "\n",
    "Suppose that a camera views an object and its reflection in a plane mirror. Show that this situation is equivalent to having two images of the object which are related by a skew-symmetric fundamental matrix. You may assume that the object is flat, meaning that all points on the object are of equal distance to the mirror (**Hint:** draw the relevant vectors to understand the relationship between the camera, the object, and its reflected image.)\n",
    "\n",
    "\n",
    "\n"
   ]
  },
  {
   "cell_type": "markdown",
   "metadata": {
    "deletable": false,
    "editable": true,
    "nbgrader": {
     "cell_type": "markdown",
     "checksum": "f2e53ba2c33fdd08eee26ab9d6b9322a",
     "grade": true,
     "grade_id": "cell-d5728e037f384ded",
     "locked": false,
     "points": 10,
     "schema_version": 3,
     "solution": true,
     "task": false
    }
   },
   "source": [
    "Assume $3 \\mathrm{D}$ point $\\mathrm{P}$ and its reflection $\\mathrm{P}^{\\prime}$ in the mirror. There is no rotation, only translation between the two points. They are related by the homogeneous transformation\n",
    "$$\n",
    "P=\\left[\\begin{array}{cccc}\n",
    "1 & 0 & 0 & t_x \\\\\n",
    "0 & 1 & 0 & t_y \\\\\n",
    "0 & 0 & 1 & t_z \\\\\n",
    "0 & 0 & 0 & 1\n",
    "\\end{array}\\right] P^{\\prime}\n",
    "$$\n",
    "The image points $p$ and $p^{\\prime}$ corresponding to $P$ and $P^{\\prime}$ must satisfy the epipolar correspondence.\n",
    "$$\n",
    "p^{\\prime} F p=0\n",
    "$$\n",
    "Here $F=K E$, where $E$ is the essential matrix\n",
    "$$\n",
    "p^{\\prime} K E p=0\n",
    "$$\n",
    "Here\n",
    "$E=[t] R$ where $\\mathrm{t}$ is the translation and $\\mathrm{R}$ is the rotation\n",
    "$$\n",
    "\\begin{aligned}\n",
    "&t=\\left[\\begin{array}{lll}\n",
    "t_x & t_y & t_z\n",
    "\\end{array}\\right]^{\\prime} \\\\\n",
    "&R=\\left[\\begin{array}{lll}\n",
    "1 & 0 & 0 \\\\\n",
    "0 & 1 & 0 \\\\\n",
    "0 & 0 & 1\n",
    "\\end{array}\\right] \\\\\n",
    "&\\Rightarrow E=\\left[\\begin{array}{ccc}\n",
    "0 & -t_z & t_y \\\\\n",
    "t_z & 0 & -t_x \\\\\n",
    "-t_y & t_x & 0\n",
    "\\end{array}\\right]\n",
    "\\end{aligned}\n",
    "$$\n",
    "Taking the transpose of E\n",
    "$$\n",
    "E^T=\\left[\\begin{array}{ccc}\n",
    "0 & t_z & -t_y \\\\\n",
    "-t_z & 0 & t_x \\\\\n",
    "t_y & -t_x & 0\n",
    "\\end{array}\\right]\n",
    "$$\n",
    "Since $E^T=-E$\n",
    "$\\mathrm{E}$ is a skew symmetric matrix"
   ]
  },
  {
   "cell_type": "markdown",
   "metadata": {
    "deletable": false,
    "editable": false,
    "nbgrader": {
     "cell_type": "markdown",
     "checksum": "4a79836003d68698b32bff3fb16e553a",
     "grade": false,
     "grade_id": "cell-dbed38f544a88ed5",
     "locked": true,
     "schema_version": 3,
     "solution": false,
     "task": false
    }
   },
   "source": [
    "# Coding Questions (30 pt)"
   ]
  },
  {
   "cell_type": "markdown",
   "metadata": {
    "deletable": false,
    "editable": true,
    "nbgrader": {
     "cell_type": "markdown",
     "checksum": "f15ddd7b79f422417b55e7cc89e39794",
     "grade": true,
     "grade_id": "cell-5a62694e7d76b858",
     "locked": false,
     "points": 2,
     "schema_version": 3,
     "solution": true,
     "task": false
    }
   },
   "source": [
    "### Q1.1: The Eight Point Algorithm\n",
    "\n",
    "<span style='color:red'>**Output:**</span> In your write-up: Write your recovered $\\textbf{F}$ and include an image of some example outputs of displayEpipolarF.\n",
    "\n",
    "$$\n",
    "F = \\begin{bmatrix} -0.  &    0.   &  -0.2811 \\\\ 0.   &   0.  &   -0.0099 \\\\  0.2713 & 0.0046 & 1. \\end{bmatrix}\n",
    "$$\n",
    "![](results/1_1.png)\n"
   ]
  },
  {
   "cell_type": "markdown",
   "metadata": {
    "deletable": false,
    "editable": true,
    "nbgrader": {
     "cell_type": "markdown",
     "checksum": "9b3fb684b89aefccec51c2008fd0eaca",
     "grade": true,
     "grade_id": "cell-fa25f5e12e09cf01",
     "locked": false,
     "points": 5,
     "schema_version": 3,
     "solution": true,
     "task": false
    }
   },
   "source": [
    "### Q1.2: The Seven Point Algorithm\n",
    "<span style='color:red'>**Output:**</span> In your write-up: Print your recovered $\\textbf{F}$ and include an image output of `displayEpipolarF`.\n",
    "\n",
    "$$\n",
    "F = \\begin{bmatrix} 0. & 0.& -0.201 \\\\ 0. & -0.& 0.0007 \\\\  0.1922 &-0.0042 & 1. \\end{bmatrix}\n",
    "$$\n",
    "![](results/1_2.png)\n",
    "\n"
   ]
  },
  {
   "cell_type": "markdown",
   "metadata": {
    "deletable": false,
    "editable": true,
    "nbgrader": {
     "cell_type": "markdown",
     "checksum": "987a23f38772f7e51396f83c1e4422a3",
     "grade": true,
     "grade_id": "cell-0901094d90d5ee50",
     "locked": false,
     "points": 5,
     "schema_version": 3,
     "solution": true,
     "task": false
    }
   },
   "source": [
    "### Q2.2 Triangulation and find M2 \n",
    "\n",
    "<span style='color:red'>**Output:**</span> In your write-up: Write down the expression for the matrix $\\mathbf{A}_i$\n",
    "\n",
    "\n",
    "\n",
    "$$\n",
    "\\mathbf{A}_i = \\begin{bmatrix} y_i*(C13) - C12 \\\\ C11 - x_i*(C13) \\\\  y'_i*(C23) - C22 \\\\  C21 - x'_i*(C23)\\end{bmatrix}\n",
    "$$\n",
    "\n",
    "$\\mathbf{A}_i$ is a $4\\times 4$ matrix\n",
    "\n",
    "where $(x_i, y_i)$ and $(x'_i, y'_i)$ are 2 corresponding points in im1 and im2 respectively\n",
    "\n",
    "$C_{ij}$ is the $j^{th}$ row of the $i^{th}$ camera\n"
   ]
  },
  {
   "cell_type": "markdown",
   "metadata": {
    "deletable": false,
    "editable": true,
    "nbgrader": {
     "cell_type": "markdown",
     "checksum": "67c45385147d9268ff59e77d9bde9e5e",
     "grade": true,
     "grade_id": "cell-12709527c18b3146",
     "locked": false,
     "points": 5,
     "schema_version": 3,
     "solution": true,
     "task": false
    }
   },
   "source": [
    "### Q2.3 Epipolar Correspondence\n",
    "\n",
    "<span style='color:red'>**Output:**</span> In your write-up, include a screenshot of `epipolarMatchGUI`\n",
    "with some detected correspondences.\n",
    "\n",
    "\n",
    "![](results/2_3.png)"
   ]
  },
  {
   "cell_type": "markdown",
   "metadata": {
    "deletable": false,
    "editable": true,
    "nbgrader": {
     "cell_type": "markdown",
     "checksum": "4c4001adbf37eb9dcc25149c1e08f3ab",
     "grade": true,
     "grade_id": "cell-5ef8e705d153cda0",
     "locked": false,
     "points": 3,
     "schema_version": 3,
     "solution": true,
     "task": false
    }
   },
   "source": [
    "### Q2.4 3D Visualization\n",
    "\n",
    "<span style='color:red'>**Output:**</span> In your write-up: Take a few screenshots of the 3D visualization\n",
    "so that the outline of the temple is clearly visible.\n",
    "\n",
    "![](results/2_4.png)\n",
    "![](results/2_4_2.png)\n",
    "![](results/2_4_3.png)\n"
   ]
  },
  {
   "cell_type": "markdown",
   "metadata": {
    "deletable": false,
    "editable": true,
    "nbgrader": {
     "cell_type": "markdown",
     "checksum": "7779b124a0b636e99859c8c9384b4b0b",
     "grade": true,
     "grade_id": "cell-776fd721d9eadbac",
     "locked": false,
     "points": 10,
     "schema_version": 3,
     "solution": true,
     "task": false
    }
   },
   "source": [
    "### Q3.3 Bundle Adjustment\n",
    "\n",
    "<span style='color:red'>**Output:**</span> In your write-up: include an image of output of the `plot_3D_dual` function by passing in the original 3D points and the optimized points. Also include the before and after reprojection error for the `rodriguesResidual` function.\n",
    "\n",
    "__Reprojection error__\n",
    "\n",
    "Before: $352.8419$, After: $10.8869$\n",
    "![](results/3_3.png)\n",
    "![](results/3_3_2.png)\n",
    "![](results/3_3_3.png)\n",
    "\n"
   ]
  }
 ],
 "metadata": {
  "kernelspec": {
   "display_name": "Python 3",
   "language": "python",
   "name": "python3"
  },
  "language_info": {
   "codemirror_mode": {
    "name": "ipython",
    "version": 3
   },
   "file_extension": ".py",
   "mimetype": "text/x-python",
   "name": "python",
   "nbconvert_exporter": "python",
   "pygments_lexer": "ipython3",
   "version": "3.6.13"
  },
  "toc": {
   "base_numbering": 1,
   "nav_menu": {},
   "number_sections": false,
   "sideBar": true,
   "skip_h1_title": false,
   "title_cell": "Table of Contents",
   "title_sidebar": "Contents",
   "toc_cell": false,
   "toc_position": {
    "height": "calc(100% - 180px)",
    "left": "10px",
    "top": "150px",
    "width": "349.091px"
   },
   "toc_section_display": true,
   "toc_window_display": true
  },
  "vscode": {
   "interpreter": {
    "hash": "bdc4f760b44c31e061eff244741989b42a01fb3a2258441550e5a1fecf6629dc"
   }
  }
 },
 "nbformat": 4,
 "nbformat_minor": 2
}
