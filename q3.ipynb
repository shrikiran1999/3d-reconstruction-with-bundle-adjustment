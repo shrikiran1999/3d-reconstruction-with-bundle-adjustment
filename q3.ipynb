{
 "cells": [
  {
   "cell_type": "code",
   "execution_count": null,
   "metadata": {},
   "outputs": [],
   "source": []
  },
  {
   "cell_type": "markdown",
   "metadata": {
    "deletable": false,
    "editable": false,
    "nbgrader": {
     "cell_type": "markdown",
     "checksum": "7b38fd4d8449aa5b4a5f1f4c5bd9e9ae",
     "grade": false,
     "grade_id": "cell-0e7c21e26eed41ce",
     "locked": true,
     "schema_version": 3,
     "solution": false,
     "task": false
    }
   },
   "source": [
    "<img align=\"center\" src=\"images/course.png\" width=\"800\">"
   ]
  },
  {
   "cell_type": "markdown",
   "metadata": {
    "deletable": false,
    "editable": false,
    "nbgrader": {
     "cell_type": "markdown",
     "checksum": "cbc753602e9026b6a3cc3aa15d20652e",
     "grade": false,
     "grade_id": "cell-658d093e37a5868a",
     "locked": true,
     "schema_version": 3,
     "solution": false,
     "task": false
    }
   },
   "source": [
    "# 16720 (B)  3D Reconstruction - Assignment 5 - q3\n",
    "    Instructor: Kris                          TAs: Arka, Jinkun, Rawal, Rohan, Sheng-Yu"
   ]
  },
  {
   "cell_type": "code",
   "execution_count": 1,
   "metadata": {
    "deletable": false,
    "editable": false,
    "nbgrader": {
     "cell_type": "code",
     "checksum": "38fc16a29263d3fc710e0dbfefa547e0",
     "grade": false,
     "grade_id": "cell-390ba40b7055feba",
     "locked": true,
     "schema_version": 3,
     "solution": false,
     "task": false
    }
   },
   "outputs": [],
   "source": [
    "# Helper functions for this assignment. DO NOT MODIFY!!!\n",
    "\"\"\"\n",
    "Helper functions.\n",
    "\"\"\"\n",
    "\n",
    "import numpy as np\n",
    "import matplotlib.pyplot as plt\n",
    "import matplotlib\n",
    "import scipy\n",
    "import cv2\n",
    "import nbimporter\n",
    "from q1 import eightpoint, sevenpoint, camera2, _epipoles, calc_epi_error, toHomogenous, _singularize\n",
    "from q2 import find_M2, plot_3D\n",
    "\n",
    "def plot_3D_dual(P_before, P_after):  \n",
    "    matplotlib.use('TkAgg')\n",
    "    fig = plt.figure()\n",
    "    ax = fig.add_subplot(111, projection='3d')\n",
    "    ax.set_title(\"Blue: before; red: after\")\n",
    "    ax.scatter(P_before[:,0], P_before[:,1], P_before[:,2], c = 'blue')\n",
    "    ax.scatter(P_after[:,0], P_after[:,1], P_after[:,2], c='red')\n",
    "    while True:\n",
    "        x, y = plt.ginput(1, mouse_stop=2)[0]\n",
    "        plt.draw()\n",
    "\n"
   ]
  },
  {
   "cell_type": "markdown",
   "metadata": {
    "deletable": false,
    "editable": false,
    "nbgrader": {
     "cell_type": "markdown",
     "checksum": "63653dea8996f970b725fdd6782570a3",
     "grade": false,
     "grade_id": "cell-6e33506b3c2e5cee",
     "locked": true,
     "schema_version": 3,
     "solution": false,
     "task": false
    }
   },
   "source": [
    "## Q3: Bundle Adjustment\n",
    "Bundle Adjustment is commonly used as the last step of every feature-based 3D reconstruction algorithm. Given a set of images depicting a number of 3D points from different viewpoints, bundle adjustment is the process of simultaneously refining the 3D coordinates along with the camera parameters. It minimizes reprojection error, which is the squared sum of distances between image points and predicted points. In this section, you will implement bundle adjustment algorithm by yourself. Specifically,\n",
    "\n",
    "\n",
    "- In Q3.1, you need to implement a RANSAC algorithm to estimate the fundamental matrix F and all the inliers.\n",
    "- In Q3.2, you will need to write code to parameterize Rotation matrix $\\mathbf{R}$ using [Rodrigues formula](https://en.wikipedia.org/wiki/Rodrigues\\%27\\_formul) (Please check [this pdf](https://www2.cs.duke.edu/courses/fall13/compsci527/notes/rodrigues.pdf) for a detailed explanation), which will enable the joint optimization process for Bundle Adjustment.\n",
    "- Q3.3, you will need to first write down the objective function in rodriguesResidual, and do the bundleAdjustment.\n",
    "\n",
    "### Q3.1 RANSAC for Fundamental Matrix Recovery (15 pt implementation)\n",
    "\n",
    "In some real world applications, manually determining correspondences is infeasible and often there will be noisy correspondences. Fortunately, the RANSAC method seen (and implemented in previous assignments) in class can be applied to the problem of fundamental matrix estimation.\n",
    "\n",
    "Implement the above algorithm with the signature:\n",
    "```\n",
    "[F, inliers] = ransacF(pts1, pts2, M)\n",
    "```\n",
    "\n",
    "where `M` is defined in the same way as when we calculate the fundamental matrix and inliers is a boolean vector of size equivalent to the number of points. Here inliers are set to true only for the points that satisfy the threshold defined for the given fundamental matrix F.\n",
    "\n",
    "We have provided some noisy coorespondances in some\\_corresp\\_noisy.npz in which around $75\\%$ of the points are inliers. Compare the result of RANSAC with the result of the eight-point algorithm when ran on the noisy correspondences. \n",
    "\n",
    "**Hints:** Use the seven point to compute the fundamental matrix from the minimal set of points. Then compute the inliers, and refine your estimate using all the inliers.\n"
   ]
  },
  {
   "cell_type": "code",
   "execution_count": 2,
   "metadata": {
    "deletable": false,
    "nbgrader": {
     "cell_type": "code",
     "checksum": "40a39130502960617347560f7a07f910",
     "grade": false,
     "grade_id": "cell-450fffa620eaf4bc",
     "locked": false,
     "schema_version": 3,
     "solution": true,
     "task": false
    }
   },
   "outputs": [
    {
     "name": "stdout",
     "output_type": "stream",
     "text": [
      "Optimization terminated successfully.\n",
      "         Current function value: 0.000107\n",
      "         Iterations: 8\n",
      "         Function evaluations: 881\n"
     ]
    }
   ],
   "source": [
    "def find_best_Fs(Fs_list, pts1_homo, pts2_homo):\n",
    "    '''\n",
    "    To find the best Fs from the list of Fs we get for each solution of the cubic equation\n",
    "    '''\n",
    "    ress = []\n",
    "    F_res = []\n",
    "    for Fs in Fs_list:\n",
    "        res = calc_epi_error(pts1_homo, pts2_homo, Fs)\n",
    "        F_res.append(Fs)\n",
    "        ress.append(np.mean(res))\n",
    "    min_idx = np.argmin(np.abs(np.array(ress)))\n",
    "    Fs_best = F_res[min_idx]\n",
    "    return Fs_best\n",
    "\n",
    "def ransacF(pts1, pts2, M):\n",
    "    '''\n",
    "    Q3.1: RANSAC method.\n",
    "        Input:  pts1, Nx2 Matrix\n",
    "                pts2, Nx2 Matrix\n",
    "                M, a scaler parameter\n",
    "        Output: F, the fundamental matrix\n",
    "                inlier_curr, Nx1 bool vector set to true for inliers\n",
    "    ***\n",
    "    Hints:\n",
    "    (1) You can use the calc_epi_error from q1 with threshold to calcualte inliers. Tune the threshold based on \n",
    "        the results/expected number of inliners. You can also define your own metric. \n",
    "    (2) Use the seven point alogrithm to estimate the fundamental matrix as done in q1\n",
    "    (3) Choose the resulting F that has the most number of inliers\n",
    "    (4) You can increase the nIters to bigger/smaller values\n",
    "        \n",
    "    '''\n",
    "    N = pts1.shape[0]\n",
    "    pts1_homo, pts2_homo = toHomogenous(pts1), toHomogenous(pts2)\n",
    "    threshold = 10\n",
    "    max_iteration = 1000\n",
    "    best_inlier = 0\n",
    "    inlier_curr = None\n",
    "    # ----- TODO -----\n",
    "    # YOUR CODE HERE\n",
    "    # RANSAC loop:\n",
    "    for i in range(max_iteration):\n",
    "        rand_col_idxs = np.random.choice(N, size=7)\n",
    "        pts1_sampled = pts1[rand_col_idxs]\n",
    "        pts2_sampled = pts2[rand_col_idxs]\n",
    "        Fs_list = sevenpoint(pts1_sampled, pts2_sampled, M) # do seven point for 7 sampled points\n",
    "        Fs = find_best_Fs(Fs_list, pts1_homo, pts2_homo)\n",
    "        ress = calc_epi_error(pts1_homo, pts2_homo, Fs) # calculate error wrt all points\n",
    "        inliers = np.where(ress<threshold, True, False)\n",
    "        n_inliers = np.sum(inliers)\n",
    "        if n_inliers>best_inlier:\n",
    "            inlier_curr = inliers\n",
    "            best_inlier = n_inliers\n",
    "\n",
    "    best_idxs = np.where(inlier_curr==1)\n",
    "    # refining estimate based on all inliers\n",
    "    F = eightpoint(pts1[best_idxs], pts2[best_idxs], M)\n",
    "    # raise NotImplementedError()\n",
    "    return F, inlier_curr\n",
    "\n",
    "\n",
    "np.random.seed(0)\n",
    "np.set_printoptions(precision=4, suppress=1)\n",
    "correspondence = np.load('data/some_corresp_noisy.npz') # Loading noisy correspondences\n",
    "intrinsics = np.load('data/intrinsics.npz') # Loading the intrinscis of the camera\n",
    "K1, K2 = intrinsics['K1'], intrinsics['K2']\n",
    "pts1, pts2 = correspondence['pts1'], correspondence['pts2']\n",
    "im1 = plt.imread('data/im1.png')\n",
    "im2 = plt.imread('data/im2.png')\n",
    "F, inliners = ransacF(pts1, pts2, M=np.max([*im1.shape, *im2.shape]))\n"
   ]
  },
  {
   "cell_type": "code",
   "execution_count": 3,
   "metadata": {
    "deletable": false,
    "editable": false,
    "nbgrader": {
     "cell_type": "code",
     "checksum": "026f701c5050c32f478ec2bb606f849e",
     "grade": true,
     "grade_id": "q3_1_a",
     "locked": true,
     "points": 15,
     "schema_version": 3,
     "solution": false,
     "task": false
    }
   },
   "outputs": [
    {
     "name": "stdout",
     "output_type": "stream",
     "text": [
      "Test passed!\n"
     ]
    }
   ],
   "source": [
    "# Full set of tests; you will get full points for coding if passing the following tests. \n",
    "try:\n",
    "    assert(np.sum(inliners) > len(pts1) * 0.7)\n",
    "    print('Test passed!')\n",
    "except:\n",
    "    raise AssertionError('Test failed')"
   ]
  },
  {
   "cell_type": "markdown",
   "metadata": {
    "deletable": false,
    "editable": false,
    "nbgrader": {
     "cell_type": "markdown",
     "checksum": "e8b726917dad5ac710485168269e58e9",
     "grade": false,
     "grade_id": "cell-0b8fd67e54fadaa8",
     "locked": true,
     "schema_version": 3,
     "solution": false,
     "task": false
    }
   },
   "source": [
    "### Q3.2 Rodrigues and Invsere Rodrigues (10 pt implementation)\n",
    "So far we have independently solved for the camera matrix, $\\mathbf{M}_j$ and 3D projections, $\\textbf{w}_i$. In bundle adjustment, we will jointly optimize the reprojection error with respect to the points $\\textbf{w}_i$ and the camera matrix $\\textbf{w}_j$.\n",
    "\n",
    "$$\n",
    "err = \\sum_{ij} ||\\textbf{x}_{ij} - Proj(\\mathbf{C}_j, \\textbf{w}_i)||^2,\n",
    "$$\n",
    "where $\\textbf{w}_j = \\mathbf{K}_j \\mathbf{M}_j$.\n",
    "\n",
    "For this homework, we are going to only look at optimizing the extrinsic matrix. The rotation matrix forms the Lie Group $\\textbf{SO}(3)$ that doesn't satisfy the addition operation so it cannot be directly optimized. Instead, we parameterize the rotation matrix to axis angle using Rodrigues formula to the Lie Algebra $\\mathfrak{so}(3)$, which is defined in $\\mathbb{R}^3$. through which the least squares optimization process can be done to optimize the axis angle. Try to implement function\n",
    "\n",
    "```\n",
    "R = rodrigues(r)\n",
    "```\n",
    "\n",
    "as well as the inverse function that converts a rotation matrix $\\mathbf{R}$ to a Rodrigues vector $\\mathbf{r}$\n",
    "\n",
    "```\n",
    "r = invRodrigues(R)\n",
    "```\n",
    "\n",
    "Please refer to [Rodrigues formula](https://en.wikipedia.org/wiki/Rodrigues\\%27\\_formul)  and [this pdf](https://www2.cs.duke.edu/courses/fall13/compsci527/notes/rodrigues.pdf) for reference.\n"
   ]
  },
  {
   "cell_type": "code",
   "execution_count": 4,
   "metadata": {
    "deletable": false,
    "nbgrader": {
     "cell_type": "code",
     "checksum": "0723daffdd025e6e90dffcca9f785f9d",
     "grade": true,
     "grade_id": "cell-f7107c598b84fe13",
     "locked": false,
     "points": 0,
     "schema_version": 3,
     "solution": true,
     "task": false
    }
   },
   "outputs": [],
   "source": [
    "def rodrigues(r):\n",
    "    '''\n",
    "    Q3.2: Rodrigues formula.\n",
    "        Input:  r, a 3x1 vector\n",
    "        Output: R, a 3x3 rotation matrix\n",
    "    '''\n",
    "    # ----- TODO -----\n",
    "    # YOUR CODE HERE\n",
    "    # raise NotImplementedError()\n",
    "    # from the formula on page 5 of the pdf\n",
    "    theta = np.linalg.norm(r)\n",
    "    u = r/theta # axis of rotation\n",
    "    u = u.reshape((3,1))\n",
    "    u_x = np.array([[0.0, -u.item(2), u.item(1)],    # skew symmetric form of vector u\n",
    "                [u.item(2), 0.0, -u.item(0)],\n",
    "                [-u.item(1), u.item(0), 0.0]])\n",
    "    R = np.cos(theta)*np.identity(3) + (1-np.cos(theta))*(u@u.T) + np.sin(theta)*u_x\n",
    "\n",
    "    return R\n",
    "\n",
    "def SHalf(r):\n",
    "    theta = np.linalg.norm(r)\n",
    "\n",
    "    if theta == np.pi and ( (r[0] == r[1] and r[0] == 0 and r[1] == 0 and r[2] < 0) or  (r[0] == 0 and r[1] < 0) or (r[0] < 0) ):\n",
    "        return -r\n",
    "\n",
    "    return r\n",
    "\n",
    "def arctan2(y, x):\n",
    "    if x > 0:\n",
    "        return np.arctan(y/x)\n",
    "    elif x<0:\n",
    "        return np.pi + np.arctan(y/x)\n",
    "    elif x == 0 and y < 0:\n",
    "        return -np.pi/2\n",
    "    elif x ==0 and y > 0:\n",
    "        return np.pi/2\n",
    "\n",
    "def invRodrigues(R):\n",
    "    '''\n",
    "    Q5.2: Inverse Rodrigues formula.\n",
    "        Input:  R, a 3x3 rotation matrix\n",
    "        Output: r, a 3x1 vector\n",
    "    '''\n",
    "    # ----- TODO -----\n",
    "    # YOUR CODE HERE\n",
    "    # raise NotImplementedError()\n",
    "    # again from pg5 of pdf\n",
    "    A = (R-R.T)/2\n",
    "    rho = np.array([A[2,1], A[0,2], A[1,0]])\n",
    "    s = np.linalg.norm(rho)\n",
    "    c = (R[0,0]+R[1,1]+R[2,2]-1)/2\n",
    "\n",
    "    if s==0 and c==1:\n",
    "        r = np.zeros((3,))\n",
    "    elif s==0 and c==-1:\n",
    "        R_ = R + np.identity(3)\n",
    "        cols_R_ = [R_[:,0], R_[:,1], R_[:,2]]\n",
    "        for col in cols_R_:\n",
    "            if np.any(col!=0):\n",
    "                v = col\n",
    "                u = v/np.linalg.norm(v)\n",
    "                r_ = u*np.pi\n",
    "                r = SHalf(r_)\n",
    "                break\n",
    "    elif s!=0:\n",
    "        u = rho/s\n",
    "        theta = arctan2(s,c)\n",
    "        r = u*theta\n",
    "    \n",
    "    return r\n",
    "    "
   ]
  },
  {
   "cell_type": "code",
   "execution_count": 5,
   "metadata": {
    "deletable": false,
    "editable": false,
    "nbgrader": {
     "cell_type": "code",
     "checksum": "c1c828ae74013e65d61782f4b03230c3",
     "grade": true,
     "grade_id": "q3_2_a",
     "locked": true,
     "points": 3,
     "schema_version": 3,
     "solution": false,
     "task": false
    }
   },
   "outputs": [
    {
     "name": "stdout",
     "output_type": "stream",
     "text": [
      "Test passed!\n"
     ]
    }
   ],
   "source": [
    "# Simple Tests to verify your implmentation:\n",
    "from scipy.spatial.transform import Rotation as sRot\n",
    "rotVec = sRot.random()\n",
    "mat = rodrigues(rotVec.as_rotvec())\n",
    "\n",
    "try:\n",
    "    assert(np.linalg.norm(rotVec.as_rotvec() - invRodrigues(mat)) < 1e-3)\n",
    "    assert(np.linalg.norm(rotVec.as_matrix() - mat) < 1e-3)\n",
    "    print('Test passed!') \n",
    "except:\n",
    "    print('Test failed!')\n"
   ]
  },
  {
   "cell_type": "code",
   "execution_count": 6,
   "metadata": {
    "deletable": false,
    "editable": false,
    "nbgrader": {
     "cell_type": "code",
     "checksum": "e11db5c7284825dc336b6f7b7206a97c",
     "grade": true,
     "grade_id": "q3_2_b",
     "locked": true,
     "points": 7,
     "schema_version": 3,
     "solution": false,
     "task": false
    }
   },
   "outputs": [],
   "source": [
    "# Hidden Tests"
   ]
  },
  {
   "cell_type": "markdown",
   "metadata": {
    "deletable": false,
    "editable": false,
    "nbgrader": {
     "cell_type": "markdown",
     "checksum": "66157d998361fe4480f8c0717bc4235a",
     "grade": false,
     "grade_id": "cell-7e9d53a35b7095e0",
     "locked": true,
     "schema_version": 3,
     "solution": false,
     "task": false
    }
   },
   "source": [
    "### Q3.3 Bundle Adjustment (10 pt writeup)\n",
    "\n",
    "In this section, you need to implement the bundle adjustment algorithm. Using the parameterization you implemented in the last question, write an objective function for the extrinsic optimization:\n",
    "\n",
    "```\n",
    "residuals = rodriguesResidual(K1, M1, p1, K2, p2, x)\n",
    "```\n",
    "where x is the flattened concatenation of $\\mathbf{w}$, $\\mathbf{r}_2$, and $\\mathbf{t}_2$.\n",
    "$\\mathbf{w}$ are the 3D points; $\\mathbf{r}_2$ and $\\mathbf{t}_2$ are the rotation (in the Rodrigues vector form) and translation vectors associated with the projection matrix $\\mathbf{M}_2$; $p1$ and $p2$ are 2D coordinates of points in image 1 and 2, respectively. The `residuals` are the difference between the original image projections and the estimated projections (the square of $2$-norm of this vector corresponds to the error we computed in Q3.2):\n",
    "```\n",
    "residuals = numpy.concatenate([(p1-p1').reshape([-1]), (p2-p2').reshape([-1])])\n",
    "```\n",
    "\n",
    "Use this objective function and Scipy's nonlinear least squares optimizer $\\texttt{leastsq}$ write a function to optimize for the best extrinsic matrix and 3D points using the inlier correspondences from some_corresp_noisy.npz and the RANSAC estimate of the extrinsics and 3D points as an initialization.\n",
    "\n",
    "```\n",
    "[M2, w, o1, o2] = bundleAdjustment(K1, M1, p1, K2, M2_init, p2, p_init)\n",
    "```\n",
    "\n",
    "Try to extract the rotation and translation from `M2_init`, then use `invRodrigues` you implemented previously to transform the rotation, concatenate it with translation and the 3D points, then the concatenate vector are variables to be optimized. After obtaining optimized vector, decompose it back to rotation using `Rodrigues` you implemented previously, translation and 3D points coordinates.\n",
    "\n",
    "<span style='color:red'>**Output:**</span> In your write-up: include an image of output of the `plot_3D_dual` function by passing in the original 3D points and the optimized points. Also include the before and after reprojection error for the `rodriguesResidual` function.\n",
    "\n"
   ]
  },
  {
   "cell_type": "code",
   "execution_count": 7,
   "metadata": {
    "deletable": false,
    "nbgrader": {
     "cell_type": "code",
     "checksum": "dd47def2203bf2ac3c9ec5387769e73c",
     "grade": false,
     "grade_id": "cell-21b599d494aeefec",
     "locked": false,
     "schema_version": 3,
     "solution": true,
     "task": false
    }
   },
   "outputs": [],
   "source": [
    "def rodriguesResidual(K1, M1, p1, K2, p2, x):\n",
    "    '''\n",
    "    Q3.3: Rodrigues residual.\n",
    "        Input:  K1, the intrinsics of camera 1\n",
    "                M1, the extrinsics of camera 1\n",
    "                p1, the 2D coordinates of points in image 1\n",
    "                K2, the intrinsics of camera 2\n",
    "                p2, the 2D coordinates of points in image 2\n",
    "                x, the flattened concatenationg of P, r2, and t2.\n",
    "        Output: residuals, 4N x 1 vector, the difference between original \n",
    "                and estimated projections\n",
    "    '''\n",
    "    residuals = None\n",
    "    # ----- TODO -----\n",
    "    # YOUR CODE HERE\n",
    "    # raise NotImplementedError()\n",
    "    n = p1.shape[0]\n",
    "    P = x[:3*n].reshape((n,3))\n",
    "    r = x[3*n:3*n+3]\n",
    "    t = x[3*n+3:3*n+6, None]\n",
    "\n",
    "    R = rodrigues(r)\n",
    "    M2 =  np.hstack( [R, t] )\n",
    "    C1 = K1.dot(M1)\n",
    "    C2 = K2.dot(M2)\n",
    "    \n",
    "    P_homo = np.vstack( [P.T, np.ones(n) ] )\n",
    "\n",
    "    p1__homo = C1 @ P_homo\n",
    "    p2__homo = C2 @ P_homo\n",
    "\n",
    "    p1_ = p1__homo.T\n",
    "    p2_ = p2__homo.T\n",
    "\n",
    "    # normalize\n",
    "    p1_ = (p1_.T/p1_[:,-1]).T\n",
    "    p2_ = (p2_.T/p2_[:,-1]).T\n",
    "\n",
    "    # non-homogenize\n",
    "    p1_ = p1_[:, :-1]\n",
    "    p2_ = p2_[:, :-1]\n",
    "\n",
    "    residuals = np.concatenate([(p1-p1_).reshape([-1]), (p2-p2_).reshape([-1])])\n",
    "\n",
    "    return residuals\n",
    "\n",
    "\n",
    "\n",
    "def bundleAdjustment(K1, M1, p1, K2, M2_init, p2, P_init):\n",
    "    '''\n",
    "    Q3.3 Bundle adjustment.\n",
    "        Input:  K1, the intrinsics of camera 1\n",
    "                M1, the extrinsics of camera 1\n",
    "                p1, the 2D coordinates of points in image 1\n",
    "                K2,  the intrinsics of camera 2\n",
    "                M2_init, the initial extrinsics of camera 1\n",
    "                p2, the 2D coordinates of points in image 2\n",
    "                P_init, the initial 3D coordinates of points\n",
    "        Output: M2, the optimized extrinsics of camera 1\n",
    "                P2, the optimized 3D coordinates of points\n",
    "                o1, the starting objective function value with the initial input\n",
    "                o2, the ending objective function value after bundle adjustment\n",
    "    \n",
    "    ***\n",
    "    Hints:\n",
    "    (1) Use the scipy.optimize.minimize function to minimize the objective function, rodriguesResidual. \n",
    "        You can try different (method='..') in scipy.optimize.minimize for best results. \n",
    "    '''\n",
    "    obj_start = obj_end = 0\n",
    "    # ----- TODO -----\n",
    "    # YOUR CODE HERE\n",
    "\n",
    "    R_init = M2_init[:, 0:3]\n",
    "    r_init = invRodrigues(R_init)\n",
    "    t_init = M2_init[:, 3].flatten()\n",
    "    x_init = np.concatenate([P_init.flatten(), r_init, t_init])\n",
    "\n",
    "    # defining the objective function\n",
    "    func = lambda x: (rodriguesResidual(K1, M1, p1, K2, p2, x)** 2).sum()\n",
    "    # initial objective function value\n",
    "    obj_start = func(x_init)\n",
    "    print('Optimization started')\n",
    "    res = scipy.optimize.minimize(func, x_init)\n",
    "    print('Optimization completed')\n",
    "    x_opt = res.x\n",
    "    obj_end = func(x_opt)\n",
    "\n",
    "    n = p1.shape[0]\n",
    "    P_opt = x_opt[:3*n].reshape((n,3))\n",
    "    r_opt = x_opt[3*n:3*n+3]\n",
    "    t_opt = x_opt[3*n+3:3*n+6, None]\n",
    "    R_opt = rodrigues(r_opt)\n",
    "    M2_opt =  np.hstack([R_opt, t_opt])\n",
    "\n",
    "    P = P_opt\n",
    "    M2 = M2_opt\n",
    "\n",
    "    return M2, P, obj_start, obj_end\n"
   ]
  },
  {
   "cell_type": "code",
   "execution_count": 8,
   "metadata": {
    "deletable": false,
    "editable": false,
    "nbgrader": {
     "cell_type": "code",
     "checksum": "9b601769f0b6918b5e620d90e5886981",
     "grade": false,
     "grade_id": "cell-cb33726364687902",
     "locked": true,
     "schema_version": 3,
     "solution": false,
     "task": false
    }
   },
   "outputs": [
    {
     "name": "stdout",
     "output_type": "stream",
     "text": [
      "Optimization terminated successfully.\n",
      "         Current function value: 0.000107\n",
      "         Iterations: 8\n",
      "         Function evaluations: 881\n",
      "[[    0.     -1525.9      -87.87       0.    ]\n",
      " [ 1520.4        0.       108.32       0.    ]\n",
      " [  -27.1754 -1527.1232   -64.4339  1518.5012]\n",
      " [-1520.3281    38.0712  -103.5382   -30.8262]]\n",
      "[[    0.     -1525.9      -87.87       0.    ]\n",
      " [ 1520.4        0.       108.32       0.    ]\n",
      " [  -27.1754 -1527.1232   -64.4339 -1518.5012]\n",
      " [-1520.3281    38.0712  -103.5382    30.8262]]\n",
      "[[    0.     -1525.9      -87.87       0.    ]\n",
      " [ 1520.4        0.       108.32       0.    ]\n",
      " [   51.2007 -1448.9265  -484.7536  1518.5012]\n",
      " [ 1519.8403    22.3438   114.6869   -30.8262]]\n",
      "[[    0.     -1525.9      -87.87       0.    ]\n",
      " [ 1520.4        0.       108.32       0.    ]\n",
      " [   51.2007 -1448.9265  -484.7536 -1518.5012]\n",
      " [ 1519.8403    22.3438   114.6869    30.8262]]\n",
      "Best Error 352.84188176481746\n",
      "Optimization started\n",
      "Optimization completed\n",
      "Before 352.84188176482445, After 10.887102895199996\n"
     ]
    }
   ],
   "source": [
    "# Visualization:\n",
    "np.random.seed(0)\n",
    "correspondence = np.load('data/some_corresp_noisy.npz') # Loading noisy correspondences\n",
    "intrinsics = np.load('data/intrinsics.npz') # Loading the intrinscis of the camera\n",
    "K1, K2 = intrinsics['K1'], intrinsics['K2']\n",
    "pts1, pts2 = correspondence['pts1'], correspondence['pts2']\n",
    "im1 = plt.imread('data/im1.png')\n",
    "im2 = plt.imread('data/im2.png')\n",
    "\n",
    "M=np.max([*im1.shape, *im2.shape])\n",
    "F, inliners = ransacF(pts1, pts2, M)\n",
    "pts1_inliners = pts1[inliners.squeeze(), :]\n",
    "pts2_inliners = pts2[inliners.squeeze(), :]\n",
    "\n",
    "M1 = np.hstack((np.identity(3), np.zeros(3)[:,np.newaxis]))\n",
    "C1 = K1.dot(M1)\n",
    "M2_init,C2, P_init = find_M2(F, pts1_inliners, pts2_inliners, intrinsics)\n",
    "\n",
    "M2, P_final, obj_start, obj_end = bundleAdjustment(K1, M1, pts1_inliners, K2, M2_init, pts2_inliners, P_init)\n",
    "print(f\"Before {obj_start}, After {obj_end}\")\n",
    "# plot_3D_dual(P_init, P_final) ## comment to visualize, uncomment when submitting to gradescope\n"
   ]
  },
  {
   "cell_type": "code",
   "execution_count": 9,
   "metadata": {},
   "outputs": [
    {
     "ename": "TclError",
     "evalue": "invalid command name \"pyimage50\"",
     "output_type": "error",
     "traceback": [
      "\u001b[1;31m---------------------------------------------------------------------------\u001b[0m",
      "\u001b[1;31mTclError\u001b[0m                                  Traceback (most recent call last)",
      "\u001b[1;32mc:\\Users\\kiran\\Anaconda3\\envs\\cvb\\lib\\site-packages\\matplotlib\\blocking_input.py\u001b[0m in \u001b[0;36m__call__\u001b[1;34m(self, n, timeout)\u001b[0m\n\u001b[0;32m     92\u001b[0m             \u001b[1;31m# Start event loop.\u001b[0m\u001b[1;33m\u001b[0m\u001b[1;33m\u001b[0m\u001b[1;33m\u001b[0m\u001b[0m\n\u001b[1;32m---> 93\u001b[1;33m             \u001b[0mself\u001b[0m\u001b[1;33m.\u001b[0m\u001b[0mfig\u001b[0m\u001b[1;33m.\u001b[0m\u001b[0mcanvas\u001b[0m\u001b[1;33m.\u001b[0m\u001b[0mstart_event_loop\u001b[0m\u001b[1;33m(\u001b[0m\u001b[0mtimeout\u001b[0m\u001b[1;33m=\u001b[0m\u001b[0mtimeout\u001b[0m\u001b[1;33m)\u001b[0m\u001b[1;33m\u001b[0m\u001b[1;33m\u001b[0m\u001b[0m\n\u001b[0m\u001b[0;32m     94\u001b[0m         \u001b[1;32mfinally\u001b[0m\u001b[1;33m:\u001b[0m  \u001b[1;31m# Run even on exception like ctrl-c.\u001b[0m\u001b[1;33m\u001b[0m\u001b[1;33m\u001b[0m\u001b[0m\n",
      "\u001b[1;32mc:\\Users\\kiran\\Anaconda3\\envs\\cvb\\lib\\site-packages\\matplotlib\\backend_bases.py\u001b[0m in \u001b[0;36mstart_event_loop\u001b[1;34m(self, timeout)\u001b[0m\n\u001b[0;32m   2406\u001b[0m         \u001b[1;32mwhile\u001b[0m \u001b[0mself\u001b[0m\u001b[1;33m.\u001b[0m\u001b[0m_looping\u001b[0m \u001b[1;32mand\u001b[0m \u001b[0mcounter\u001b[0m \u001b[1;33m*\u001b[0m \u001b[0mtimestep\u001b[0m \u001b[1;33m<\u001b[0m \u001b[0mtimeout\u001b[0m\u001b[1;33m:\u001b[0m\u001b[1;33m\u001b[0m\u001b[1;33m\u001b[0m\u001b[0m\n\u001b[1;32m-> 2407\u001b[1;33m             \u001b[0mself\u001b[0m\u001b[1;33m.\u001b[0m\u001b[0mflush_events\u001b[0m\u001b[1;33m(\u001b[0m\u001b[1;33m)\u001b[0m\u001b[1;33m\u001b[0m\u001b[1;33m\u001b[0m\u001b[0m\n\u001b[0m\u001b[0;32m   2408\u001b[0m             \u001b[0mtime\u001b[0m\u001b[1;33m.\u001b[0m\u001b[0msleep\u001b[0m\u001b[1;33m(\u001b[0m\u001b[0mtimestep\u001b[0m\u001b[1;33m)\u001b[0m\u001b[1;33m\u001b[0m\u001b[1;33m\u001b[0m\u001b[0m\n",
      "\u001b[1;32mc:\\Users\\kiran\\Anaconda3\\envs\\cvb\\lib\\site-packages\\matplotlib\\backends\\_backend_tk.py\u001b[0m in \u001b[0;36mflush_events\u001b[1;34m(self)\u001b[0m\n\u001b[0;32m    389\u001b[0m         \u001b[1;31m# docstring inherited\u001b[0m\u001b[1;33m\u001b[0m\u001b[1;33m\u001b[0m\u001b[1;33m\u001b[0m\u001b[0m\n\u001b[1;32m--> 390\u001b[1;33m         \u001b[0mself\u001b[0m\u001b[1;33m.\u001b[0m\u001b[0m_master\u001b[0m\u001b[1;33m.\u001b[0m\u001b[0mupdate\u001b[0m\u001b[1;33m(\u001b[0m\u001b[1;33m)\u001b[0m\u001b[1;33m\u001b[0m\u001b[1;33m\u001b[0m\u001b[0m\n\u001b[0m\u001b[0;32m    391\u001b[0m \u001b[1;33m\u001b[0m\u001b[0m\n",
      "\u001b[1;32mc:\\Users\\kiran\\Anaconda3\\envs\\cvb\\lib\\tkinter\\__init__.py\u001b[0m in \u001b[0;36mupdate\u001b[1;34m(self)\u001b[0m\n\u001b[0;32m   1176\u001b[0m         \u001b[1;34m\"\"\"Enter event loop until all pending events have been processed by Tcl.\"\"\"\u001b[0m\u001b[1;33m\u001b[0m\u001b[1;33m\u001b[0m\u001b[0m\n\u001b[1;32m-> 1177\u001b[1;33m         \u001b[0mself\u001b[0m\u001b[1;33m.\u001b[0m\u001b[0mtk\u001b[0m\u001b[1;33m.\u001b[0m\u001b[0mcall\u001b[0m\u001b[1;33m(\u001b[0m\u001b[1;34m'update'\u001b[0m\u001b[1;33m)\u001b[0m\u001b[1;33m\u001b[0m\u001b[1;33m\u001b[0m\u001b[0m\n\u001b[0m\u001b[0;32m   1178\u001b[0m     \u001b[1;32mdef\u001b[0m \u001b[0mupdate_idletasks\u001b[0m\u001b[1;33m(\u001b[0m\u001b[0mself\u001b[0m\u001b[1;33m)\u001b[0m\u001b[1;33m:\u001b[0m\u001b[1;33m\u001b[0m\u001b[1;33m\u001b[0m\u001b[0m\n",
      "\u001b[1;31mTclError\u001b[0m: can't invoke \"update\" command: application has been destroyed",
      "\nDuring handling of the above exception, another exception occurred:\n",
      "\u001b[1;31mTclError\u001b[0m                                  Traceback (most recent call last)",
      "\u001b[1;32m<ipython-input-9-5904d14e3089>\u001b[0m in \u001b[0;36m<module>\u001b[1;34m\u001b[0m\n\u001b[1;32m----> 1\u001b[1;33m \u001b[0mplot_3D_dual\u001b[0m\u001b[1;33m(\u001b[0m\u001b[0mP_init\u001b[0m\u001b[1;33m,\u001b[0m \u001b[0mP_final\u001b[0m\u001b[1;33m)\u001b[0m\u001b[1;33m\u001b[0m\u001b[1;33m\u001b[0m\u001b[0m\n\u001b[0m",
      "\u001b[1;32m<ipython-input-1-93d073798c55>\u001b[0m in \u001b[0;36mplot_3D_dual\u001b[1;34m(P_before, P_after)\u001b[0m\n\u001b[0;32m     21\u001b[0m     \u001b[0max\u001b[0m\u001b[1;33m.\u001b[0m\u001b[0mscatter\u001b[0m\u001b[1;33m(\u001b[0m\u001b[0mP_after\u001b[0m\u001b[1;33m[\u001b[0m\u001b[1;33m:\u001b[0m\u001b[1;33m,\u001b[0m\u001b[1;36m0\u001b[0m\u001b[1;33m]\u001b[0m\u001b[1;33m,\u001b[0m \u001b[0mP_after\u001b[0m\u001b[1;33m[\u001b[0m\u001b[1;33m:\u001b[0m\u001b[1;33m,\u001b[0m\u001b[1;36m1\u001b[0m\u001b[1;33m]\u001b[0m\u001b[1;33m,\u001b[0m \u001b[0mP_after\u001b[0m\u001b[1;33m[\u001b[0m\u001b[1;33m:\u001b[0m\u001b[1;33m,\u001b[0m\u001b[1;36m2\u001b[0m\u001b[1;33m]\u001b[0m\u001b[1;33m,\u001b[0m \u001b[0mc\u001b[0m\u001b[1;33m=\u001b[0m\u001b[1;34m'red'\u001b[0m\u001b[1;33m)\u001b[0m\u001b[1;33m\u001b[0m\u001b[1;33m\u001b[0m\u001b[0m\n\u001b[0;32m     22\u001b[0m     \u001b[1;32mwhile\u001b[0m \u001b[1;32mTrue\u001b[0m\u001b[1;33m:\u001b[0m\u001b[1;33m\u001b[0m\u001b[1;33m\u001b[0m\u001b[0m\n\u001b[1;32m---> 23\u001b[1;33m         \u001b[0mx\u001b[0m\u001b[1;33m,\u001b[0m \u001b[0my\u001b[0m \u001b[1;33m=\u001b[0m \u001b[0mplt\u001b[0m\u001b[1;33m.\u001b[0m\u001b[0mginput\u001b[0m\u001b[1;33m(\u001b[0m\u001b[1;36m1\u001b[0m\u001b[1;33m,\u001b[0m \u001b[0mmouse_stop\u001b[0m\u001b[1;33m=\u001b[0m\u001b[1;36m2\u001b[0m\u001b[1;33m)\u001b[0m\u001b[1;33m[\u001b[0m\u001b[1;36m0\u001b[0m\u001b[1;33m]\u001b[0m\u001b[1;33m\u001b[0m\u001b[1;33m\u001b[0m\u001b[0m\n\u001b[0m\u001b[0;32m     24\u001b[0m         \u001b[0mplt\u001b[0m\u001b[1;33m.\u001b[0m\u001b[0mdraw\u001b[0m\u001b[1;33m(\u001b[0m\u001b[1;33m)\u001b[0m\u001b[1;33m\u001b[0m\u001b[1;33m\u001b[0m\u001b[0m\n\u001b[0;32m     25\u001b[0m \u001b[1;33m\u001b[0m\u001b[0m\n",
      "\u001b[1;32mc:\\Users\\kiran\\Anaconda3\\envs\\cvb\\lib\\site-packages\\matplotlib\\pyplot.py\u001b[0m in \u001b[0;36mginput\u001b[1;34m(n, timeout, show_clicks, mouse_add, mouse_pop, mouse_stop)\u001b[0m\n\u001b[0;32m   2384\u001b[0m         \u001b[0mn\u001b[0m\u001b[1;33m=\u001b[0m\u001b[0mn\u001b[0m\u001b[1;33m,\u001b[0m \u001b[0mtimeout\u001b[0m\u001b[1;33m=\u001b[0m\u001b[0mtimeout\u001b[0m\u001b[1;33m,\u001b[0m \u001b[0mshow_clicks\u001b[0m\u001b[1;33m=\u001b[0m\u001b[0mshow_clicks\u001b[0m\u001b[1;33m,\u001b[0m\u001b[1;33m\u001b[0m\u001b[1;33m\u001b[0m\u001b[0m\n\u001b[0;32m   2385\u001b[0m         \u001b[0mmouse_add\u001b[0m\u001b[1;33m=\u001b[0m\u001b[0mmouse_add\u001b[0m\u001b[1;33m,\u001b[0m \u001b[0mmouse_pop\u001b[0m\u001b[1;33m=\u001b[0m\u001b[0mmouse_pop\u001b[0m\u001b[1;33m,\u001b[0m\u001b[1;33m\u001b[0m\u001b[1;33m\u001b[0m\u001b[0m\n\u001b[1;32m-> 2386\u001b[1;33m         mouse_stop=mouse_stop)\n\u001b[0m\u001b[0;32m   2387\u001b[0m \u001b[1;33m\u001b[0m\u001b[0m\n\u001b[0;32m   2388\u001b[0m \u001b[1;33m\u001b[0m\u001b[0m\n",
      "\u001b[1;32mc:\\Users\\kiran\\Anaconda3\\envs\\cvb\\lib\\site-packages\\matplotlib\\figure.py\u001b[0m in \u001b[0;36mginput\u001b[1;34m(self, n, timeout, show_clicks, mouse_add, mouse_pop, mouse_stop)\u001b[0m\n\u001b[0;32m   2452\u001b[0m                                                   mouse_stop=mouse_stop)\n\u001b[0;32m   2453\u001b[0m         return blocking_mouse_input(n=n, timeout=timeout,\n\u001b[1;32m-> 2454\u001b[1;33m                                     show_clicks=show_clicks)\n\u001b[0m\u001b[0;32m   2455\u001b[0m \u001b[1;33m\u001b[0m\u001b[0m\n\u001b[0;32m   2456\u001b[0m     \u001b[1;32mdef\u001b[0m \u001b[0mwaitforbuttonpress\u001b[0m\u001b[1;33m(\u001b[0m\u001b[0mself\u001b[0m\u001b[1;33m,\u001b[0m \u001b[0mtimeout\u001b[0m\u001b[1;33m=\u001b[0m\u001b[1;33m-\u001b[0m\u001b[1;36m1\u001b[0m\u001b[1;33m)\u001b[0m\u001b[1;33m:\u001b[0m\u001b[1;33m\u001b[0m\u001b[1;33m\u001b[0m\u001b[0m\n",
      "\u001b[1;32mc:\\Users\\kiran\\Anaconda3\\envs\\cvb\\lib\\site-packages\\matplotlib\\blocking_input.py\u001b[0m in \u001b[0;36m__call__\u001b[1;34m(self, n, timeout, show_clicks)\u001b[0m\n\u001b[0;32m    265\u001b[0m         \u001b[0mself\u001b[0m\u001b[1;33m.\u001b[0m\u001b[0mclicks\u001b[0m \u001b[1;33m=\u001b[0m \u001b[1;33m[\u001b[0m\u001b[1;33m]\u001b[0m\u001b[1;33m\u001b[0m\u001b[1;33m\u001b[0m\u001b[0m\n\u001b[0;32m    266\u001b[0m         \u001b[0mself\u001b[0m\u001b[1;33m.\u001b[0m\u001b[0mmarks\u001b[0m \u001b[1;33m=\u001b[0m \u001b[1;33m[\u001b[0m\u001b[1;33m]\u001b[0m\u001b[1;33m\u001b[0m\u001b[1;33m\u001b[0m\u001b[0m\n\u001b[1;32m--> 267\u001b[1;33m         \u001b[0mBlockingInput\u001b[0m\u001b[1;33m.\u001b[0m\u001b[0m__call__\u001b[0m\u001b[1;33m(\u001b[0m\u001b[0mself\u001b[0m\u001b[1;33m,\u001b[0m \u001b[0mn\u001b[0m\u001b[1;33m=\u001b[0m\u001b[0mn\u001b[0m\u001b[1;33m,\u001b[0m \u001b[0mtimeout\u001b[0m\u001b[1;33m=\u001b[0m\u001b[0mtimeout\u001b[0m\u001b[1;33m)\u001b[0m\u001b[1;33m\u001b[0m\u001b[1;33m\u001b[0m\u001b[0m\n\u001b[0m\u001b[0;32m    268\u001b[0m         \u001b[1;32mreturn\u001b[0m \u001b[0mself\u001b[0m\u001b[1;33m.\u001b[0m\u001b[0mclicks\u001b[0m\u001b[1;33m\u001b[0m\u001b[1;33m\u001b[0m\u001b[0m\n\u001b[0;32m    269\u001b[0m \u001b[1;33m\u001b[0m\u001b[0m\n",
      "\u001b[1;32mc:\\Users\\kiran\\Anaconda3\\envs\\cvb\\lib\\site-packages\\matplotlib\\blocking_input.py\u001b[0m in \u001b[0;36m__call__\u001b[1;34m(self, n, timeout)\u001b[0m\n\u001b[0;32m     94\u001b[0m         \u001b[1;32mfinally\u001b[0m\u001b[1;33m:\u001b[0m  \u001b[1;31m# Run even on exception like ctrl-c.\u001b[0m\u001b[1;33m\u001b[0m\u001b[1;33m\u001b[0m\u001b[0m\n\u001b[0;32m     95\u001b[0m             \u001b[1;31m# Disconnect the callbacks.\u001b[0m\u001b[1;33m\u001b[0m\u001b[1;33m\u001b[0m\u001b[1;33m\u001b[0m\u001b[0m\n\u001b[1;32m---> 96\u001b[1;33m             \u001b[0mself\u001b[0m\u001b[1;33m.\u001b[0m\u001b[0mcleanup\u001b[0m\u001b[1;33m(\u001b[0m\u001b[1;33m)\u001b[0m\u001b[1;33m\u001b[0m\u001b[1;33m\u001b[0m\u001b[0m\n\u001b[0m\u001b[0;32m     97\u001b[0m         \u001b[1;31m# Return the events in this case.\u001b[0m\u001b[1;33m\u001b[0m\u001b[1;33m\u001b[0m\u001b[1;33m\u001b[0m\u001b[0m\n\u001b[0;32m     98\u001b[0m         \u001b[1;32mreturn\u001b[0m \u001b[0mself\u001b[0m\u001b[1;33m.\u001b[0m\u001b[0mevents\u001b[0m\u001b[1;33m\u001b[0m\u001b[1;33m\u001b[0m\u001b[0m\n",
      "\u001b[1;32mc:\\Users\\kiran\\Anaconda3\\envs\\cvb\\lib\\site-packages\\matplotlib\\blocking_input.py\u001b[0m in \u001b[0;36mcleanup\u001b[1;34m(self, event)\u001b[0m\n\u001b[0;32m    254\u001b[0m                 \u001b[0mmark\u001b[0m\u001b[1;33m.\u001b[0m\u001b[0mremove\u001b[0m\u001b[1;33m(\u001b[0m\u001b[1;33m)\u001b[0m\u001b[1;33m\u001b[0m\u001b[1;33m\u001b[0m\u001b[0m\n\u001b[0;32m    255\u001b[0m             \u001b[0mself\u001b[0m\u001b[1;33m.\u001b[0m\u001b[0mmarks\u001b[0m \u001b[1;33m=\u001b[0m \u001b[1;33m[\u001b[0m\u001b[1;33m]\u001b[0m\u001b[1;33m\u001b[0m\u001b[1;33m\u001b[0m\u001b[0m\n\u001b[1;32m--> 256\u001b[1;33m             \u001b[0mself\u001b[0m\u001b[1;33m.\u001b[0m\u001b[0mfig\u001b[0m\u001b[1;33m.\u001b[0m\u001b[0mcanvas\u001b[0m\u001b[1;33m.\u001b[0m\u001b[0mdraw\u001b[0m\u001b[1;33m(\u001b[0m\u001b[1;33m)\u001b[0m\u001b[1;33m\u001b[0m\u001b[1;33m\u001b[0m\u001b[0m\n\u001b[0m\u001b[0;32m    257\u001b[0m         \u001b[1;31m# Call base class to remove callbacks.\u001b[0m\u001b[1;33m\u001b[0m\u001b[1;33m\u001b[0m\u001b[1;33m\u001b[0m\u001b[0m\n\u001b[0;32m    258\u001b[0m         \u001b[0mBlockingInput\u001b[0m\u001b[1;33m.\u001b[0m\u001b[0mcleanup\u001b[0m\u001b[1;33m(\u001b[0m\u001b[0mself\u001b[0m\u001b[1;33m)\u001b[0m\u001b[1;33m\u001b[0m\u001b[1;33m\u001b[0m\u001b[0m\n",
      "\u001b[1;32mc:\\Users\\kiran\\Anaconda3\\envs\\cvb\\lib\\site-packages\\matplotlib\\backends\\backend_tkagg.py\u001b[0m in \u001b[0;36mdraw\u001b[1;34m(self)\u001b[0m\n\u001b[0;32m      8\u001b[0m     \u001b[1;32mdef\u001b[0m \u001b[0mdraw\u001b[0m\u001b[1;33m(\u001b[0m\u001b[0mself\u001b[0m\u001b[1;33m)\u001b[0m\u001b[1;33m:\u001b[0m\u001b[1;33m\u001b[0m\u001b[1;33m\u001b[0m\u001b[0m\n\u001b[0;32m      9\u001b[0m         \u001b[0msuper\u001b[0m\u001b[1;33m(\u001b[0m\u001b[0mFigureCanvasTkAgg\u001b[0m\u001b[1;33m,\u001b[0m \u001b[0mself\u001b[0m\u001b[1;33m)\u001b[0m\u001b[1;33m.\u001b[0m\u001b[0mdraw\u001b[0m\u001b[1;33m(\u001b[0m\u001b[1;33m)\u001b[0m\u001b[1;33m\u001b[0m\u001b[1;33m\u001b[0m\u001b[0m\n\u001b[1;32m---> 10\u001b[1;33m         \u001b[0m_backend_tk\u001b[0m\u001b[1;33m.\u001b[0m\u001b[0mblit\u001b[0m\u001b[1;33m(\u001b[0m\u001b[0mself\u001b[0m\u001b[1;33m.\u001b[0m\u001b[0m_tkphoto\u001b[0m\u001b[1;33m,\u001b[0m \u001b[0mself\u001b[0m\u001b[1;33m.\u001b[0m\u001b[0mrenderer\u001b[0m\u001b[1;33m.\u001b[0m\u001b[0m_renderer\u001b[0m\u001b[1;33m,\u001b[0m \u001b[1;33m(\u001b[0m\u001b[1;36m0\u001b[0m\u001b[1;33m,\u001b[0m \u001b[1;36m1\u001b[0m\u001b[1;33m,\u001b[0m \u001b[1;36m2\u001b[0m\u001b[1;33m,\u001b[0m \u001b[1;36m3\u001b[0m\u001b[1;33m)\u001b[0m\u001b[1;33m)\u001b[0m\u001b[1;33m\u001b[0m\u001b[1;33m\u001b[0m\u001b[0m\n\u001b[0m\u001b[0;32m     11\u001b[0m         \u001b[0mself\u001b[0m\u001b[1;33m.\u001b[0m\u001b[0m_master\u001b[0m\u001b[1;33m.\u001b[0m\u001b[0mupdate_idletasks\u001b[0m\u001b[1;33m(\u001b[0m\u001b[1;33m)\u001b[0m\u001b[1;33m\u001b[0m\u001b[1;33m\u001b[0m\u001b[0m\n\u001b[0;32m     12\u001b[0m \u001b[1;33m\u001b[0m\u001b[0m\n",
      "\u001b[1;32mc:\\Users\\kiran\\Anaconda3\\envs\\cvb\\lib\\site-packages\\matplotlib\\backends\\_backend_tk.py\u001b[0m in \u001b[0;36mblit\u001b[1;34m(photoimage, aggimage, offsets, bbox)\u001b[0m\n\u001b[0;32m     73\u001b[0m         \u001b[0mbboxptr\u001b[0m \u001b[1;33m=\u001b[0m \u001b[1;33m(\u001b[0m\u001b[0mx1\u001b[0m\u001b[1;33m,\u001b[0m \u001b[0mx2\u001b[0m\u001b[1;33m,\u001b[0m \u001b[0my1\u001b[0m\u001b[1;33m,\u001b[0m \u001b[0my2\u001b[0m\u001b[1;33m)\u001b[0m\u001b[1;33m\u001b[0m\u001b[1;33m\u001b[0m\u001b[0m\n\u001b[0;32m     74\u001b[0m     \u001b[1;32melse\u001b[0m\u001b[1;33m:\u001b[0m\u001b[1;33m\u001b[0m\u001b[1;33m\u001b[0m\u001b[0m\n\u001b[1;32m---> 75\u001b[1;33m         \u001b[0mphotoimage\u001b[0m\u001b[1;33m.\u001b[0m\u001b[0mblank\u001b[0m\u001b[1;33m(\u001b[0m\u001b[1;33m)\u001b[0m\u001b[1;33m\u001b[0m\u001b[1;33m\u001b[0m\u001b[0m\n\u001b[0m\u001b[0;32m     76\u001b[0m         \u001b[0mbboxptr\u001b[0m \u001b[1;33m=\u001b[0m \u001b[1;33m(\u001b[0m\u001b[1;36m0\u001b[0m\u001b[1;33m,\u001b[0m \u001b[0mwidth\u001b[0m\u001b[1;33m,\u001b[0m \u001b[1;36m0\u001b[0m\u001b[1;33m,\u001b[0m \u001b[0mheight\u001b[0m\u001b[1;33m)\u001b[0m\u001b[1;33m\u001b[0m\u001b[1;33m\u001b[0m\u001b[0m\n\u001b[0;32m     77\u001b[0m     _tkagg.blit(\n",
      "\u001b[1;32mc:\\Users\\kiran\\Anaconda3\\envs\\cvb\\lib\\tkinter\\__init__.py\u001b[0m in \u001b[0;36mblank\u001b[1;34m(self)\u001b[0m\n\u001b[0;32m   3546\u001b[0m     \u001b[1;32mdef\u001b[0m \u001b[0mblank\u001b[0m\u001b[1;33m(\u001b[0m\u001b[0mself\u001b[0m\u001b[1;33m)\u001b[0m\u001b[1;33m:\u001b[0m\u001b[1;33m\u001b[0m\u001b[1;33m\u001b[0m\u001b[0m\n\u001b[0;32m   3547\u001b[0m         \u001b[1;34m\"\"\"Display a transparent image.\"\"\"\u001b[0m\u001b[1;33m\u001b[0m\u001b[1;33m\u001b[0m\u001b[0m\n\u001b[1;32m-> 3548\u001b[1;33m         \u001b[0mself\u001b[0m\u001b[1;33m.\u001b[0m\u001b[0mtk\u001b[0m\u001b[1;33m.\u001b[0m\u001b[0mcall\u001b[0m\u001b[1;33m(\u001b[0m\u001b[0mself\u001b[0m\u001b[1;33m.\u001b[0m\u001b[0mname\u001b[0m\u001b[1;33m,\u001b[0m \u001b[1;34m'blank'\u001b[0m\u001b[1;33m)\u001b[0m\u001b[1;33m\u001b[0m\u001b[1;33m\u001b[0m\u001b[0m\n\u001b[0m\u001b[0;32m   3549\u001b[0m     \u001b[1;32mdef\u001b[0m \u001b[0mcget\u001b[0m\u001b[1;33m(\u001b[0m\u001b[0mself\u001b[0m\u001b[1;33m,\u001b[0m \u001b[0moption\u001b[0m\u001b[1;33m)\u001b[0m\u001b[1;33m:\u001b[0m\u001b[1;33m\u001b[0m\u001b[1;33m\u001b[0m\u001b[0m\n\u001b[0;32m   3550\u001b[0m         \u001b[1;34m\"\"\"Return the value of OPTION.\"\"\"\u001b[0m\u001b[1;33m\u001b[0m\u001b[1;33m\u001b[0m\u001b[0m\n",
      "\u001b[1;31mTclError\u001b[0m: invalid command name \"pyimage50\""
     ]
    }
   ],
   "source": [
    "plot_3D_dual(P_init, P_final)"
   ]
  },
  {
   "cell_type": "code",
   "execution_count": null,
   "metadata": {},
   "outputs": [],
   "source": []
  }
 ],
 "metadata": {
  "kernelspec": {
   "display_name": "Python 3.6.13 ('cvb')",
   "language": "python",
   "name": "python3"
  },
  "language_info": {
   "codemirror_mode": {
    "name": "ipython",
    "version": 3
   },
   "file_extension": ".py",
   "mimetype": "text/x-python",
   "name": "python",
   "nbconvert_exporter": "python",
   "pygments_lexer": "ipython3",
   "version": "3.6.13 |Anaconda, Inc.| (default, Mar 16 2021, 11:37:27) [MSC v.1916 64 bit (AMD64)]"
  },
  "toc": {
   "base_numbering": 1,
   "nav_menu": {},
   "number_sections": false,
   "sideBar": true,
   "skip_h1_title": false,
   "title_cell": "Table of Contents",
   "title_sidebar": "Contents",
   "toc_cell": false,
   "toc_position": {
    "height": "calc(100% - 180px)",
    "left": "10px",
    "top": "150px",
    "width": "341.108px"
   },
   "toc_section_display": true,
   "toc_window_display": true
  },
  "vscode": {
   "interpreter": {
    "hash": "c21fd19af84997c7324eb40f3f35b9c516eb0e316e912022307cacada437db6d"
   }
  }
 },
 "nbformat": 4,
 "nbformat_minor": 2
}
